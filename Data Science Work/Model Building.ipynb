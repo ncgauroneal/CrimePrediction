{
 "cells": [
  {
   "cell_type": "code",
   "execution_count": 139,
   "metadata": {},
   "outputs": [],
   "source": [
    "import pandas as pd\n",
    "import numpy as np\n",
    "from sklearn.linear_model import LogisticRegression\n",
    "from sklearn.metrics import classification_report\n",
    "from sklearn.ensemble import RandomForestClassifier\n",
    "from sklearn.tree import DecisionTreeClassifier\n",
    "import warnings\n",
    "warnings.filterwarnings('ignore')"
   ]
  },
  {
   "cell_type": "code",
   "execution_count": 140,
   "metadata": {},
   "outputs": [],
   "source": [
    "train = pd.read_csv('train.csv')\n",
    "tune = pd.read_csv('tune.csv')"
   ]
  },
  {
   "cell_type": "code",
   "execution_count": 141,
   "metadata": {},
   "outputs": [
    {
     "data": {
      "text/plain": [
       "False    250616\n",
       "True     101965\n",
       "Name: arrest, dtype: int64"
      ]
     },
     "execution_count": 141,
     "metadata": {},
     "output_type": "execute_result"
    }
   ],
   "source": [
    "train.arrest.value_counts()"
   ]
  },
  {
   "cell_type": "code",
   "execution_count": 142,
   "metadata": {},
   "outputs": [
    {
     "data": {
      "text/plain": [
       "False    71495\n",
       "True     23695\n",
       "Name: arrest, dtype: int64"
      ]
     },
     "execution_count": 142,
     "metadata": {},
     "output_type": "execute_result"
    }
   ],
   "source": [
    "tune.arrest.value_counts()"
   ]
  },
  {
   "cell_type": "code",
   "execution_count": 129,
   "metadata": {},
   "outputs": [
    {
     "data": {
      "text/plain": [
       "unique_key              0\n",
       "case_number             0\n",
       "date                    0\n",
       "block                   0\n",
       "iucr                    0\n",
       "primary_type            0\n",
       "description             0\n",
       "location_description    0\n",
       "arrest                  0\n",
       "domestic                0\n",
       "beat                    0\n",
       "district                0\n",
       "ward                    0\n",
       "community_area          0\n",
       "fbi_code                0\n",
       "x_coordinate            0\n",
       "y_coordinate            0\n",
       "year                    0\n",
       "updated_on              0\n",
       "latitude                0\n",
       "longitude               0\n",
       "location                0\n",
       "DateTime                0\n",
       "time                    0\n",
       "day                     0\n",
       "month                   0\n",
       "season                  0\n",
       "crimes_per_year         0\n",
       "prev_crimes_per_year    0\n",
       "primary_type_grouped    0\n",
       "dtype: int64"
      ]
     },
     "execution_count": 129,
     "metadata": {},
     "output_type": "execute_result"
    }
   ],
   "source": [
    "train.isna().sum()"
   ]
  },
  {
   "cell_type": "code",
   "execution_count": 130,
   "metadata": {},
   "outputs": [
    {
     "data": {
      "text/plain": [
       "unique_key              0\n",
       "case_number             0\n",
       "date                    0\n",
       "block                   0\n",
       "iucr                    0\n",
       "primary_type            0\n",
       "description             0\n",
       "location_description    0\n",
       "arrest                  0\n",
       "domestic                0\n",
       "beat                    0\n",
       "district                0\n",
       "ward                    0\n",
       "community_area          0\n",
       "fbi_code                0\n",
       "x_coordinate            0\n",
       "y_coordinate            0\n",
       "year                    0\n",
       "updated_on              0\n",
       "latitude                0\n",
       "longitude               0\n",
       "location                0\n",
       "DateTime                0\n",
       "time                    0\n",
       "day                     0\n",
       "month                   0\n",
       "season                  0\n",
       "crimes_per_year         0\n",
       "prev_crimes_per_year    0\n",
       "primary_type_grouped    0\n",
       "dtype: int64"
      ]
     },
     "execution_count": 130,
     "metadata": {},
     "output_type": "execute_result"
    }
   ],
   "source": [
    "tune.isna().sum()"
   ]
  },
  {
   "cell_type": "code",
   "execution_count": 131,
   "metadata": {},
   "outputs": [
    {
     "data": {
      "text/plain": [
       "unique_key                int64\n",
       "case_number              object\n",
       "date                     object\n",
       "block                    object\n",
       "iucr                     object\n",
       "primary_type             object\n",
       "description              object\n",
       "location_description     object\n",
       "arrest                     bool\n",
       "domestic                   bool\n",
       "beat                      int64\n",
       "district                float64\n",
       "ward                    float64\n",
       "community_area          float64\n",
       "fbi_code                 object\n",
       "x_coordinate            float64\n",
       "y_coordinate            float64\n",
       "year                      int64\n",
       "updated_on               object\n",
       "latitude                float64\n",
       "longitude               float64\n",
       "location                 object\n",
       "DateTime                 object\n",
       "time                     object\n",
       "day                       int64\n",
       "month                     int64\n",
       "season                   object\n",
       "crimes_per_year           int64\n",
       "prev_crimes_per_year      int64\n",
       "primary_type_grouped     object\n",
       "dtype: object"
      ]
     },
     "execution_count": 131,
     "metadata": {},
     "output_type": "execute_result"
    }
   ],
   "source": [
    "train.dtypes"
   ]
  },
  {
   "cell_type": "code",
   "execution_count": 29,
   "metadata": {},
   "outputs": [],
   "source": [
    "data = pd.read_csv('data.csv')"
   ]
  },
  {
   "cell_type": "code",
   "execution_count": null,
   "metadata": {},
   "outputs": [],
   "source": [
    "train.columns"
   ]
  },
  {
   "cell_type": "code",
   "execution_count": 31,
   "metadata": {},
   "outputs": [],
   "source": [
    "zzz = pd.DataFrame(data.district.unique())"
   ]
  },
  {
   "cell_type": "code",
   "execution_count": 35,
   "metadata": {},
   "outputs": [],
   "source": [
    "zzz.to_csv('districts.csv', index=False)"
   ]
  },
  {
   "cell_type": "code",
   "execution_count": 3,
   "metadata": {},
   "outputs": [
    {
     "data": {
      "text/plain": [
       "Index(['unique_key', 'case_number', 'date', 'block', 'iucr', 'primary_type',\n",
       "       'description', 'location_description', 'arrest', 'domestic', 'beat',\n",
       "       'district', 'ward', 'community_area', 'fbi_code', 'x_coordinate',\n",
       "       'y_coordinate', 'year', 'updated_on', 'latitude', 'longitude',\n",
       "       'location', 'DateTime', 'time', 'day', 'month', 'season',\n",
       "       'crimes_per_year'],\n",
       "      dtype='object')"
      ]
     },
     "execution_count": 3,
     "metadata": {},
     "output_type": "execute_result"
    }
   ],
   "source": [
    "train.columns"
   ]
  },
  {
   "cell_type": "code",
   "execution_count": 4,
   "metadata": {},
   "outputs": [],
   "source": [
    "train['DateTime'] = pd.to_datetime(train['date'])\n",
    "tune['DateTime'] = pd.to_datetime(tune['date'])\n",
    "\n",
    "\n",
    "train['hour'] = train['DateTime'].dt.hour\n",
    "tune['hour'] = tune['DateTime'].dt.hour"
   ]
  },
  {
   "cell_type": "code",
   "execution_count": 113,
   "metadata": {},
   "outputs": [],
   "source": [
    "train = train[['primary_type_grouped','description','location_description','domestic','year','district','crimes_per_year','season','ward','community_area','month','x_coordinate','y_coordinate']]\n",
    "tune = tune[['primary_type_grouped','description','location_description','domestic','year','district','crimes_per_year','season','ward','community_area','month','x_coordinate','y_coordinate']]"
   ]
  },
  {
   "cell_type": "code",
   "execution_count": 84,
   "metadata": {},
   "outputs": [],
   "source": [
    "train_labels = train['district']\n",
    "tune_labels = tune['district']"
   ]
  },
  {
   "cell_type": "code",
   "execution_count": 85,
   "metadata": {},
   "outputs": [],
   "source": [
    "train.drop('district', inplace=True,axis=1)\n",
    "tune.drop('district', inplace=True,axis=1)"
   ]
  },
  {
   "cell_type": "code",
   "execution_count": 86,
   "metadata": {},
   "outputs": [],
   "source": [
    "#train['primary_type'] = pd.factorize(train['primary_type'])[0]\n",
    "train['location_description'] = pd.factorize(train['location_description'])[0]\n",
    "train['description'] = pd.factorize(train['description'])[0]\n",
    "\n",
    "#tune['primary_type'] = pd.factorize(tune['primary_type'])[0]\n",
    "tune['location_description'] = pd.factorize(tune['location_description'])[0]\n",
    "tune['description'] = pd.factorize(tune['description'])[0]"
   ]
  },
  {
   "cell_type": "code",
   "execution_count": 87,
   "metadata": {},
   "outputs": [],
   "source": [
    "train = pd.get_dummies(train)\n",
    "tune = pd.get_dummies(tune)"
   ]
  },
  {
   "cell_type": "code",
   "execution_count": 89,
   "metadata": {},
   "outputs": [
    {
     "name": "stdout",
     "output_type": "stream",
     "text": [
      "Score: 0.24568969996778317\n"
     ]
    }
   ],
   "source": [
    "model = LogisticRegression().fit(train, train_labels)\n",
    "y_pred = model.predict(tune)\n",
    "score = model.score(tune, tune_labels)\n",
    "print(f\"Score: {score}\")"
   ]
  },
  {
   "cell_type": "code",
   "execution_count": 90,
   "metadata": {},
   "outputs": [
    {
     "name": "stdout",
     "output_type": "stream",
     "text": [
      "Score: 0.8154910988017418\n"
     ]
    }
   ],
   "source": [
    "model = DecisionTreeClassifier().fit(train, train_labels)\n",
    "y_pred = model.predict(tune)\n",
    "score = model.score(tune, tune_labels)\n",
    "print(f\"Score: {score}\")"
   ]
  },
  {
   "cell_type": "code",
   "execution_count": 91,
   "metadata": {},
   "outputs": [
    {
     "name": "stdout",
     "output_type": "stream",
     "text": [
      "Score: 0.8656869979111024\n"
     ]
    }
   ],
   "source": [
    "model = RandomForestClassifier().fit(train, train_labels)\n",
    "y_pred = model.predict(tune)\n",
    "score = model.score(tune, tune_labels)\n",
    "print(f\"Score: {score}\")"
   ]
  },
  {
   "cell_type": "code",
   "execution_count": 100,
   "metadata": {},
   "outputs": [],
   "source": [
    "def fill(val, fill_in):\n",
    "    \n",
    "    if pd.isnull(val):\n",
    "        return fill_in\n",
    "    else:\n",
    "        return val"
   ]
  },
  {
   "cell_type": "code",
   "execution_count": 118,
   "metadata": {},
   "outputs": [
    {
     "ename": "KeyError",
     "evalue": "'primary_type_grouped'",
     "output_type": "error",
     "traceback": [
      "\u001b[1;31m---------------------------------------------------------------------------\u001b[0m",
      "\u001b[1;31mKeyError\u001b[0m                                  Traceback (most recent call last)",
      "\u001b[1;32m~\\anaconda3\\lib\\site-packages\\pandas\\core\\indexes\\base.py\u001b[0m in \u001b[0;36mget_loc\u001b[1;34m(self, key, method, tolerance)\u001b[0m\n\u001b[0;32m   2894\u001b[0m             \u001b[1;32mtry\u001b[0m\u001b[1;33m:\u001b[0m\u001b[1;33m\u001b[0m\u001b[1;33m\u001b[0m\u001b[0m\n\u001b[1;32m-> 2895\u001b[1;33m                 \u001b[1;32mreturn\u001b[0m \u001b[0mself\u001b[0m\u001b[1;33m.\u001b[0m\u001b[0m_engine\u001b[0m\u001b[1;33m.\u001b[0m\u001b[0mget_loc\u001b[0m\u001b[1;33m(\u001b[0m\u001b[0mcasted_key\u001b[0m\u001b[1;33m)\u001b[0m\u001b[1;33m\u001b[0m\u001b[1;33m\u001b[0m\u001b[0m\n\u001b[0m\u001b[0;32m   2896\u001b[0m             \u001b[1;32mexcept\u001b[0m \u001b[0mKeyError\u001b[0m \u001b[1;32mas\u001b[0m \u001b[0merr\u001b[0m\u001b[1;33m:\u001b[0m\u001b[1;33m\u001b[0m\u001b[1;33m\u001b[0m\u001b[0m\n",
      "\u001b[1;32mpandas\\_libs\\index.pyx\u001b[0m in \u001b[0;36mpandas._libs.index.IndexEngine.get_loc\u001b[1;34m()\u001b[0m\n",
      "\u001b[1;32mpandas\\_libs\\index.pyx\u001b[0m in \u001b[0;36mpandas._libs.index.IndexEngine.get_loc\u001b[1;34m()\u001b[0m\n",
      "\u001b[1;32mpandas\\_libs\\hashtable_class_helper.pxi\u001b[0m in \u001b[0;36mpandas._libs.hashtable.PyObjectHashTable.get_item\u001b[1;34m()\u001b[0m\n",
      "\u001b[1;32mpandas\\_libs\\hashtable_class_helper.pxi\u001b[0m in \u001b[0;36mpandas._libs.hashtable.PyObjectHashTable.get_item\u001b[1;34m()\u001b[0m\n",
      "\u001b[1;31mKeyError\u001b[0m: 'primary_type_grouped'",
      "\nThe above exception was the direct cause of the following exception:\n",
      "\u001b[1;31mKeyError\u001b[0m                                  Traceback (most recent call last)",
      "\u001b[1;32m<ipython-input-118-0312feaeba3a>\u001b[0m in \u001b[0;36m<module>\u001b[1;34m\u001b[0m\n\u001b[1;32m----> 1\u001b[1;33m \u001b[0mtrain\u001b[0m\u001b[1;33m[\u001b[0m\u001b[1;34m'primary_type_grouped'\u001b[0m\u001b[1;33m]\u001b[0m\u001b[1;33m.\u001b[0m\u001b[0misna\u001b[0m\u001b[1;33m(\u001b[0m\u001b[1;33m)\u001b[0m\u001b[1;33m.\u001b[0m\u001b[0msum\u001b[0m\u001b[1;33m(\u001b[0m\u001b[1;33m)\u001b[0m\u001b[1;33m\u001b[0m\u001b[1;33m\u001b[0m\u001b[0m\n\u001b[0m",
      "\u001b[1;32m~\\anaconda3\\lib\\site-packages\\pandas\\core\\frame.py\u001b[0m in \u001b[0;36m__getitem__\u001b[1;34m(self, key)\u001b[0m\n\u001b[0;32m   2900\u001b[0m             \u001b[1;32mif\u001b[0m \u001b[0mself\u001b[0m\u001b[1;33m.\u001b[0m\u001b[0mcolumns\u001b[0m\u001b[1;33m.\u001b[0m\u001b[0mnlevels\u001b[0m \u001b[1;33m>\u001b[0m \u001b[1;36m1\u001b[0m\u001b[1;33m:\u001b[0m\u001b[1;33m\u001b[0m\u001b[1;33m\u001b[0m\u001b[0m\n\u001b[0;32m   2901\u001b[0m                 \u001b[1;32mreturn\u001b[0m \u001b[0mself\u001b[0m\u001b[1;33m.\u001b[0m\u001b[0m_getitem_multilevel\u001b[0m\u001b[1;33m(\u001b[0m\u001b[0mkey\u001b[0m\u001b[1;33m)\u001b[0m\u001b[1;33m\u001b[0m\u001b[1;33m\u001b[0m\u001b[0m\n\u001b[1;32m-> 2902\u001b[1;33m             \u001b[0mindexer\u001b[0m \u001b[1;33m=\u001b[0m \u001b[0mself\u001b[0m\u001b[1;33m.\u001b[0m\u001b[0mcolumns\u001b[0m\u001b[1;33m.\u001b[0m\u001b[0mget_loc\u001b[0m\u001b[1;33m(\u001b[0m\u001b[0mkey\u001b[0m\u001b[1;33m)\u001b[0m\u001b[1;33m\u001b[0m\u001b[1;33m\u001b[0m\u001b[0m\n\u001b[0m\u001b[0;32m   2903\u001b[0m             \u001b[1;32mif\u001b[0m \u001b[0mis_integer\u001b[0m\u001b[1;33m(\u001b[0m\u001b[0mindexer\u001b[0m\u001b[1;33m)\u001b[0m\u001b[1;33m:\u001b[0m\u001b[1;33m\u001b[0m\u001b[1;33m\u001b[0m\u001b[0m\n\u001b[0;32m   2904\u001b[0m                 \u001b[0mindexer\u001b[0m \u001b[1;33m=\u001b[0m \u001b[1;33m[\u001b[0m\u001b[0mindexer\u001b[0m\u001b[1;33m]\u001b[0m\u001b[1;33m\u001b[0m\u001b[1;33m\u001b[0m\u001b[0m\n",
      "\u001b[1;32m~\\anaconda3\\lib\\site-packages\\pandas\\core\\indexes\\base.py\u001b[0m in \u001b[0;36mget_loc\u001b[1;34m(self, key, method, tolerance)\u001b[0m\n\u001b[0;32m   2895\u001b[0m                 \u001b[1;32mreturn\u001b[0m \u001b[0mself\u001b[0m\u001b[1;33m.\u001b[0m\u001b[0m_engine\u001b[0m\u001b[1;33m.\u001b[0m\u001b[0mget_loc\u001b[0m\u001b[1;33m(\u001b[0m\u001b[0mcasted_key\u001b[0m\u001b[1;33m)\u001b[0m\u001b[1;33m\u001b[0m\u001b[1;33m\u001b[0m\u001b[0m\n\u001b[0;32m   2896\u001b[0m             \u001b[1;32mexcept\u001b[0m \u001b[0mKeyError\u001b[0m \u001b[1;32mas\u001b[0m \u001b[0merr\u001b[0m\u001b[1;33m:\u001b[0m\u001b[1;33m\u001b[0m\u001b[1;33m\u001b[0m\u001b[0m\n\u001b[1;32m-> 2897\u001b[1;33m                 \u001b[1;32mraise\u001b[0m \u001b[0mKeyError\u001b[0m\u001b[1;33m(\u001b[0m\u001b[0mkey\u001b[0m\u001b[1;33m)\u001b[0m \u001b[1;32mfrom\u001b[0m \u001b[0merr\u001b[0m\u001b[1;33m\u001b[0m\u001b[1;33m\u001b[0m\u001b[0m\n\u001b[0m\u001b[0;32m   2898\u001b[0m \u001b[1;33m\u001b[0m\u001b[0m\n\u001b[0;32m   2899\u001b[0m         \u001b[1;32mif\u001b[0m \u001b[0mtolerance\u001b[0m \u001b[1;32mis\u001b[0m \u001b[1;32mnot\u001b[0m \u001b[1;32mNone\u001b[0m\u001b[1;33m:\u001b[0m\u001b[1;33m\u001b[0m\u001b[1;33m\u001b[0m\u001b[0m\n",
      "\u001b[1;31mKeyError\u001b[0m: 'primary_type_grouped'"
     ]
    }
   ],
   "source": [
    "train['primary_type_grouped'].isna().sum()"
   ]
  },
  {
   "cell_type": "code",
   "execution_count": 120,
   "metadata": {},
   "outputs": [],
   "source": [
    "train_labels = pd.factorize(train['primary_type_grouped'])[0]\n"
   ]
  },
  {
   "cell_type": "code",
   "execution_count": 122,
   "metadata": {},
   "outputs": [],
   "source": [
    "train = train[~pd.isnull(train['x_coordinate'])]"
   ]
  },
  {
   "cell_type": "code",
   "execution_count": 125,
   "metadata": {},
   "outputs": [],
   "source": [
    "tune = tune[~pd.isnull(tune['x_coordinate'])]"
   ]
  },
  {
   "cell_type": "code",
   "execution_count": 137,
   "metadata": {},
   "outputs": [
    {
     "data": {
      "text/plain": [
       "unique_key              0\n",
       "case_number             0\n",
       "date                    0\n",
       "block                   0\n",
       "iucr                    0\n",
       "primary_type            0\n",
       "description             0\n",
       "location_description    0\n",
       "arrest                  0\n",
       "domestic                0\n",
       "beat                    0\n",
       "district                0\n",
       "ward                    0\n",
       "community_area          0\n",
       "fbi_code                0\n",
       "x_coordinate            0\n",
       "y_coordinate            0\n",
       "year                    0\n",
       "updated_on              0\n",
       "latitude                0\n",
       "longitude               0\n",
       "location                0\n",
       "DateTime                0\n",
       "time                    0\n",
       "day                     0\n",
       "month                   0\n",
       "season                  0\n",
       "crimes_per_year         0\n",
       "prev_crimes_per_year    0\n",
       "primary_type_grouped    0\n",
       "dtype: int64"
      ]
     },
     "execution_count": 137,
     "metadata": {},
     "output_type": "execute_result"
    }
   ],
   "source": [
    "train.isna().sum()"
   ]
  },
  {
   "cell_type": "code",
   "execution_count": 127,
   "metadata": {},
   "outputs": [
    {
     "data": {
      "text/plain": [
       "unique_key              0\n",
       "case_number             0\n",
       "date                    0\n",
       "block                   0\n",
       "iucr                    0\n",
       "primary_type            0\n",
       "description             0\n",
       "location_description    0\n",
       "arrest                  0\n",
       "domestic                0\n",
       "beat                    0\n",
       "district                0\n",
       "ward                    0\n",
       "community_area          0\n",
       "fbi_code                0\n",
       "x_coordinate            0\n",
       "y_coordinate            0\n",
       "year                    0\n",
       "updated_on              0\n",
       "latitude                0\n",
       "longitude               0\n",
       "location                0\n",
       "DateTime                0\n",
       "time                    0\n",
       "day                     0\n",
       "month                   0\n",
       "season                  0\n",
       "crimes_per_year         0\n",
       "prev_crimes_per_year    0\n",
       "primary_type_grouped    4\n",
       "dtype: int64"
      ]
     },
     "execution_count": 127,
     "metadata": {},
     "output_type": "execute_result"
    }
   ],
   "source": [
    "tune.isna().sum()"
   ]
  },
  {
   "cell_type": "code",
   "execution_count": 135,
   "metadata": {},
   "outputs": [
    {
     "data": {
      "text/plain": [
       "40421"
      ]
     },
     "execution_count": 135,
     "metadata": {},
     "output_type": "execute_result"
    }
   ],
   "source": [
    "len(train.block.unique())"
   ]
  },
  {
   "cell_type": "code",
   "execution_count": null,
   "metadata": {},
   "outputs": [],
   "source": []
  },
  {
   "cell_type": "code",
   "execution_count": 143,
   "metadata": {},
   "outputs": [
    {
     "name": "stdout",
     "output_type": "stream",
     "text": [
      "Logistic Regression Score: 0.7510767937808593\n",
      "Decision Tree Score: 0.694453198865427\n",
      "Random Forest Score: 0.8203907973526631\n"
     ]
    }
   ],
   "source": [
    "train = train[['arrest','primary_type_grouped','description','location_description','domestic','year','crimes_per_year','season','month','beat','district','community_area','ward','block','x_coordinate','y_coordinate']]\n",
    "tune = tune[['arrest','primary_type_grouped','description','location_description','domestic','year','crimes_per_year','season','month','beat','district','community_area','ward','block','x_coordinate','y_coordinate']]\n",
    "\n",
    "train_labels = pd.factorize(train['arrest'])[0]\n",
    "tune_labels = pd.factorize(tune['arrest'])[0]\n",
    "\n",
    "train.drop('arrest', inplace=True,axis=1)\n",
    "tune.drop('arrest', inplace=True,axis=1)\n",
    "\n",
    "#train['primary_type'] = pd.factorize(train['primary_type'])[0]\n",
    "train['location_description'] = pd.factorize(train['location_description'])[0]\n",
    "train['description'] = pd.factorize(train['description'])[0]\n",
    "train['block'] = pd.factorize(train['block'])[0]\n",
    "\n",
    "\n",
    "#tune['primary_type'] = pd.factorize(tune['primary_type'])[0]\n",
    "tune['location_description'] = pd.factorize(tune['location_description'])[0]\n",
    "tune['description'] = pd.factorize(tune['description'])[0]\n",
    "tune['block'] = pd.factorize(tune['block'])[0]\n",
    "\n",
    "train = pd.get_dummies(train)\n",
    "tune = pd.get_dummies(tune)\n",
    "\n",
    "model = LogisticRegression().fit(train, train_labels)\n",
    "y_pred = model.predict(tune)\n",
    "score = model.score(tune, tune_labels)\n",
    "print(f\"Logistic Regression Score: {score}\")\n",
    "\n",
    "model = DecisionTreeClassifier().fit(train, train_labels)\n",
    "y_pred = model.predict(tune)\n",
    "score = model.score(tune, tune_labels)\n",
    "print(f\"Decision Tree Score: {score}\")\n",
    "\n",
    "model = RandomForestClassifier().fit(train, train_labels)\n",
    "y_pred = model.predict(tune)\n",
    "score = model.score(tune, tune_labels)\n",
    "print(f\"Random Forest Score: {score}\")"
   ]
  },
  {
   "cell_type": "code",
   "execution_count": 99,
   "metadata": {},
   "outputs": [
    {
     "data": {
      "text/plain": [
       "18"
      ]
     },
     "execution_count": 99,
     "metadata": {},
     "output_type": "execute_result"
    }
   ],
   "source": [
    "train_labels.isna().sum()"
   ]
  }
 ],
 "metadata": {
  "kernelspec": {
   "display_name": "Python 3",
   "language": "python",
   "name": "python3"
  },
  "language_info": {
   "codemirror_mode": {
    "name": "ipython",
    "version": 3
   },
   "file_extension": ".py",
   "mimetype": "text/x-python",
   "name": "python",
   "nbconvert_exporter": "python",
   "pygments_lexer": "ipython3",
   "version": "3.8.5"
  }
 },
 "nbformat": 4,
 "nbformat_minor": 4
}
