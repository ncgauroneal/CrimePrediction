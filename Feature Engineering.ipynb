{
 "cells": [
  {
   "cell_type": "code",
   "execution_count": 4,
   "metadata": {},
   "outputs": [],
   "source": [
    "import pandas as pd\n",
    "import numpy as np"
   ]
  },
  {
   "cell_type": "code",
   "execution_count": 5,
   "metadata": {},
   "outputs": [],
   "source": [
    "data = pd.read_csv('data.csv')"
   ]
  },
  {
   "cell_type": "code",
   "execution_count": 6,
   "metadata": {},
   "outputs": [
    {
     "data": {
      "text/plain": [
       "Index(['Unnamed: 0', 'Unnamed: 0.1', 'unique_key', 'case_number', 'date',\n",
       "       'block', 'iucr', 'primary_type', 'description', 'location_description',\n",
       "       'arrest', 'domestic', 'beat', 'district', 'ward', 'community_area',\n",
       "       'fbi_code', 'x_coordinate', 'y_coordinate', 'year', 'updated_on',\n",
       "       'latitude', 'longitude', 'location'],\n",
       "      dtype='object')"
      ]
     },
     "execution_count": 6,
     "metadata": {},
     "output_type": "execute_result"
    }
   ],
   "source": [
    "data.columns"
   ]
  },
  {
   "cell_type": "code",
   "execution_count": 7,
   "metadata": {},
   "outputs": [
    {
     "data": {
      "text/plain": [
       "Index(['Unnamed: 0', 'Unnamed: 0.1', 'unique_key', 'case_number', 'date',\n",
       "       'block', 'iucr', 'primary_type', 'description', 'location_description',\n",
       "       'arrest', 'domestic', 'beat', 'district', 'ward', 'community_area',\n",
       "       'fbi_code', 'x_coordinate', 'y_coordinate', 'year', 'updated_on',\n",
       "       'latitude', 'longitude', 'location'],\n",
       "      dtype='object')"
      ]
     },
     "execution_count": 7,
     "metadata": {},
     "output_type": "execute_result"
    }
   ],
   "source": [
    "data.columns"
   ]
  },
  {
   "cell_type": "code",
   "execution_count": 8,
   "metadata": {},
   "outputs": [],
   "source": [
    "data = data[['year','primary_type','description','location_description','arrest','domestic','beat','district','ward','community_area']]"
   ]
  },
  {
   "cell_type": "code",
   "execution_count": 9,
   "metadata": {},
   "outputs": [
    {
     "data": {
      "text/plain": [
       "Index(['year', 'primary_type', 'description', 'location_description', 'arrest',\n",
       "       'domestic', 'beat', 'district', 'ward', 'community_area'],\n",
       "      dtype='object')"
      ]
     },
     "execution_count": 9,
     "metadata": {},
     "output_type": "execute_result"
    }
   ],
   "source": [
    "data.columns"
   ]
  },
  {
   "cell_type": "code",
   "execution_count": 10,
   "metadata": {},
   "outputs": [
    {
     "data": {
      "text/plain": [
       "year                      int64\n",
       "primary_type             object\n",
       "description              object\n",
       "location_description     object\n",
       "arrest                     bool\n",
       "domestic                   bool\n",
       "beat                      int64\n",
       "district                float64\n",
       "ward                    float64\n",
       "community_area          float64\n",
       "dtype: object"
      ]
     },
     "execution_count": 10,
     "metadata": {},
     "output_type": "execute_result"
    }
   ],
   "source": [
    "data.dtypes"
   ]
  },
  {
   "cell_type": "code",
   "execution_count": 11,
   "metadata": {},
   "outputs": [],
   "source": [
    "data.beat = [str(int(beat)) for beat in data.beat]\n",
    "data.district = [str(int(x)) for x in data.district]\n",
    "data.ward = [str(int(x)) for x in data.ward]\n",
    "data.community_area = [str(int(x)) for x in data.community_area]"
   ]
  },
  {
   "cell_type": "code",
   "execution_count": 12,
   "metadata": {},
   "outputs": [
    {
     "data": {
      "text/plain": [
       "Index(['year', 'primary_type', 'description', 'location_description', 'arrest',\n",
       "       'domestic', 'beat', 'district', 'ward', 'community_area'],\n",
       "      dtype='object')"
      ]
     },
     "execution_count": 12,
     "metadata": {},
     "output_type": "execute_result"
    }
   ],
   "source": [
    "data.columns"
   ]
  },
  {
   "cell_type": "code",
   "execution_count": 13,
   "metadata": {},
   "outputs": [
    {
     "data": {
      "text/plain": [
       "23"
      ]
     },
     "execution_count": 13,
     "metadata": {},
     "output_type": "execute_result"
    }
   ],
   "source": [
    "len(data.district.value_counts())"
   ]
  },
  {
   "cell_type": "code",
   "execution_count": 14,
   "metadata": {},
   "outputs": [
    {
     "data": {
      "text/plain": [
       "50"
      ]
     },
     "execution_count": 14,
     "metadata": {},
     "output_type": "execute_result"
    }
   ],
   "source": [
    "len(data.ward.value_counts())"
   ]
  },
  {
   "cell_type": "code",
   "execution_count": 15,
   "metadata": {},
   "outputs": [
    {
     "data": {
      "text/plain": [
       "THEFT                                105365\n",
       "BATTERY                               91772\n",
       "CRIMINAL DAMAGE                       56986\n",
       "NARCOTICS                             50647\n",
       "ASSAULT                               31712\n",
       "OTHER OFFENSE                         31033\n",
       "BURGLARY                              28558\n",
       "MOTOR VEHICLE THEFT                   23054\n",
       "DECEPTIVE PRACTICE                    20409\n",
       "ROBBERY                               18748\n",
       "CRIMINAL TRESPASS                     14311\n",
       "WEAPONS VIOLATION                      5863\n",
       "PROSTITUTION                           4777\n",
       "PUBLIC PEACE VIOLATION                 3482\n",
       "OFFENSE INVOLVING CHILDREN             3413\n",
       "CRIM SEXUAL ASSAULT                    1916\n",
       "SEX OFFENSE                            1860\n",
       "INTERFERENCE WITH PUBLIC OFFICER       1213\n",
       "GAMBLING                                986\n",
       "LIQUOR LAW VIOLATION                    984\n",
       "ARSON                                   833\n",
       "HOMICIDE                                771\n",
       "KIDNAPPING                              493\n",
       "INTIMIDATION                            304\n",
       "STALKING                                235\n",
       "CRIMINAL SEXUAL ASSAULT                 138\n",
       "OBSCENITY                                54\n",
       "CONCEALED CARRY LICENSE VIOLATION        35\n",
       "PUBLIC INDECENCY                         16\n",
       "NON-CRIMINAL                             15\n",
       "OTHER NARCOTIC VIOLATION                  9\n",
       "HUMAN TRAFFICKING                         5\n",
       "RITUALISM                                 2\n",
       "NON-CRIMINAL (SUBJECT SPECIFIED)          1\n",
       "Name: primary_type, dtype: int64"
      ]
     },
     "execution_count": 15,
     "metadata": {},
     "output_type": "execute_result"
    }
   ],
   "source": [
    "data.primary_type.value_counts()"
   ]
  },
  {
   "cell_type": "code",
   "execution_count": 16,
   "metadata": {},
   "outputs": [],
   "source": [
    "beat_frequency = data.beat.value_counts()"
   ]
  },
  {
   "cell_type": "code",
   "execution_count": 17,
   "metadata": {},
   "outputs": [
    {
     "data": {
      "text/plain": [
       "421     3932\n",
       "423     3850\n",
       "624     3473\n",
       "1112    3448\n",
       "1834    3408\n",
       "        ... \n",
       "1653     206\n",
       "1652      77\n",
       "1655      65\n",
       "310        1\n",
       "430        1\n",
       "Name: beat, Length: 304, dtype: int64"
      ]
     },
     "execution_count": 17,
     "metadata": {},
     "output_type": "execute_result"
    }
   ],
   "source": [
    "data.beat.value_counts()"
   ]
  },
  {
   "cell_type": "code",
   "execution_count": 18,
   "metadata": {},
   "outputs": [],
   "source": [
    "def get_beat_stats(val):\n",
    "    return beat_frequency[val]\n",
    "    "
   ]
  },
  {
   "cell_type": "code",
   "execution_count": null,
   "metadata": {},
   "outputs": [],
   "source": [
    "data['beat'].apply(get_beat_stats)"
   ]
  },
  {
   "cell_type": "code",
   "execution_count": null,
   "metadata": {},
   "outputs": [],
   "source": [
    "district_frequency = data.district.value_counts()\n",
    "ward_frequency = data.ward.value_counts()\n",
    "community_area_frequency = data.community_area.value_counts()"
   ]
  },
  {
   "cell_type": "code",
   "execution_count": null,
   "metadata": {},
   "outputs": [],
   "source": [
    "def get_crimes_per_district(val):\n",
    "    return district_frequency[val]\n",
    "\n",
    "def get_crimes_per_ward(val):\n",
    "    return ward_frequency[val]\n",
    "\n",
    "def get_crimes_per_community(val):\n",
    "    return community_area_frequency[val]\n"
   ]
  },
  {
   "cell_type": "code",
   "execution_count": null,
   "metadata": {},
   "outputs": [],
   "source": [
    "data['crimes_per_district'] = data['district'].apply(get_crimes_per_district)\n",
    "data['crimes_per_ward'] = data['ward'].apply(get_crimes_per_ward)\n",
    "data['crimes_per_community'] = data['community_area'].apply(get_crimes_per_community)"
   ]
  },
  {
   "cell_type": "code",
   "execution_count": null,
   "metadata": {},
   "outputs": [],
   "source": [
    "data.columns"
   ]
  },
  {
   "cell_type": "code",
   "execution_count": null,
   "metadata": {},
   "outputs": [],
   "source": [
    "data_model = data[['year', 'primary_type', 'arrest', 'domestic','crimes_per_beat','crimes_per_district','crimes_per_ward','crimes_per_community','beat','district','ward','community_area','description']]\n",
    "data_model.to_csv('model_data.csv', index=False)"
   ]
  },
  {
   "cell_type": "code",
   "execution_count": null,
   "metadata": {},
   "outputs": [],
   "source": [
    "data_model = pd.get_dummies(data_model)"
   ]
  },
  {
   "cell_type": "code",
   "execution_count": null,
   "metadata": {},
   "outputs": [],
   "source": [
    "data_model.shape"
   ]
  },
  {
   "cell_type": "code",
   "execution_count": null,
   "metadata": {},
   "outputs": [],
   "source": [
    "data_model.columns"
   ]
  },
  {
   "cell_type": "code",
   "execution_count": null,
   "metadata": {},
   "outputs": [],
   "source": [
    "len(data.location_description.value_counts()) "
   ]
  },
  {
   "cell_type": "code",
   "execution_count": null,
   "metadata": {},
   "outputs": [],
   "source": [
    "data[data['primary_type'] == 'THEFT']['description'].value_counts()"
   ]
  },
  {
   "cell_type": "code",
   "execution_count": null,
   "metadata": {},
   "outputs": [],
   "source": [
    "data.primary_type.value_counts()"
   ]
  },
  {
   "cell_type": "code",
   "execution_count": null,
   "metadata": {},
   "outputs": [],
   "source": []
  },
  {
   "cell_type": "code",
   "execution_count": null,
   "metadata": {},
   "outputs": [],
   "source": [
    "beat_frequency.primary_type.value_counts()"
   ]
  }
 ],
 "metadata": {
  "kernelspec": {
   "display_name": "Python 3",
   "language": "python",
   "name": "python3"
  },
  "language_info": {
   "codemirror_mode": {
    "name": "ipython",
    "version": 3
   },
   "file_extension": ".py",
   "mimetype": "text/x-python",
   "name": "python",
   "nbconvert_exporter": "python",
   "pygments_lexer": "ipython3",
   "version": "3.8.3"
  }
 },
 "nbformat": 4,
 "nbformat_minor": 4
}
